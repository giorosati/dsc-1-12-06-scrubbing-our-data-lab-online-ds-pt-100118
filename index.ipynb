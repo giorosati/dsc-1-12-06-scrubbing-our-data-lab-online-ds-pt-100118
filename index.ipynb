{
 "cells": [
  {
   "cell_type": "markdown",
   "metadata": {},
   "source": [
    "# Scrubbing Our Data - Lab\n",
    "\n",
    "## Introduction\n",
    "\n",
    "In the previous labs, we joined the data from our separate files into a single DataFrame.  In this lab, we'll scrub the data to get it ready for exploration and modeling!\n",
    "\n",
    "## Objectives\n",
    "\n",
    "You will be able to:\n",
    "\n",
    "* Cast columns to the appropriate data types\n",
    "* Identify and deal with null values appropriately\n",
    "* Remove unnecessary columns\n",
    "* Understand how to normalize data\n",
    "\n",
    "\n",
    "## Getting Started\n",
    "\n",
    "You'll find the resulting dataset from our work in the _Obtaining Data_ Lab stored within the file `walmart_data_not_cleaned.csv`.  \n",
    "\n",
    "In the cells below:\n",
    "\n",
    "* Import pandas and set the standard alias\n",
    "* Import numpy and set the standard alias\n",
    "* Import matplotlib.pyplot and set the standard alias\n",
    "* Import seaborn and set the alias `sns` (this is the standard alias for seaborn)\n",
    "* Use the ipython magic command to set all matplotlib visualizations to display inline in the the notebook\n",
    "* Load the dataset stored in the .csv file into a DataFrame using pandas\n",
    "* Inspect the head of the DataFrame to ensure everything loaded correctly"
   ]
  },
  {
   "cell_type": "code",
   "execution_count": 41,
   "metadata": {},
   "outputs": [],
   "source": [
    "# Import statements go here\n",
    "import pandas as pd\n",
    "import numpy as np\n",
    "import matplotlib.pyplot as plt\n",
    "import seaborn as sns\n",
    "%matplotlib inline"
   ]
  },
  {
   "cell_type": "code",
   "execution_count": 42,
   "metadata": {},
   "outputs": [
    {
     "name": "stdout",
     "output_type": "stream",
     "text": [
      "<class 'pandas.core.frame.DataFrame'>\n",
      "RangeIndex: 421570 entries, 0 to 421569\n",
      "Data columns (total 16 columns):\n",
      "Store           421570 non-null int64\n",
      "Dept            421570 non-null int64\n",
      "Date            421570 non-null object\n",
      "Weekly_Sales    421570 non-null float64\n",
      "IsHoliday       421570 non-null bool\n",
      "Type            421570 non-null object\n",
      "Size            421570 non-null int64\n",
      "Temperature     421570 non-null float64\n",
      "Fuel_Price      421570 non-null float64\n",
      "MarkDown1       150681 non-null float64\n",
      "MarkDown2       111248 non-null float64\n",
      "MarkDown3       137091 non-null float64\n",
      "MarkDown4       134967 non-null float64\n",
      "MarkDown5       151432 non-null float64\n",
      "CPI             421570 non-null float64\n",
      "Unemployment    421570 non-null float64\n",
      "dtypes: bool(1), float64(10), int64(3), object(2)\n",
      "memory usage: 48.6+ MB\n",
      "\n",
      "\n"
     ]
    },
    {
     "data": {
      "text/html": [
       "<div>\n",
       "<style scoped>\n",
       "    .dataframe tbody tr th:only-of-type {\n",
       "        vertical-align: middle;\n",
       "    }\n",
       "\n",
       "    .dataframe tbody tr th {\n",
       "        vertical-align: top;\n",
       "    }\n",
       "\n",
       "    .dataframe thead th {\n",
       "        text-align: right;\n",
       "    }\n",
       "</style>\n",
       "<table border=\"1\" class=\"dataframe\">\n",
       "  <thead>\n",
       "    <tr style=\"text-align: right;\">\n",
       "      <th></th>\n",
       "      <th>Store</th>\n",
       "      <th>Dept</th>\n",
       "      <th>Date</th>\n",
       "      <th>Weekly_Sales</th>\n",
       "      <th>IsHoliday</th>\n",
       "      <th>Type</th>\n",
       "      <th>Size</th>\n",
       "      <th>Temperature</th>\n",
       "      <th>Fuel_Price</th>\n",
       "      <th>MarkDown1</th>\n",
       "      <th>MarkDown2</th>\n",
       "      <th>MarkDown3</th>\n",
       "      <th>MarkDown4</th>\n",
       "      <th>MarkDown5</th>\n",
       "      <th>CPI</th>\n",
       "      <th>Unemployment</th>\n",
       "    </tr>\n",
       "  </thead>\n",
       "  <tbody>\n",
       "    <tr>\n",
       "      <th>0</th>\n",
       "      <td>1</td>\n",
       "      <td>1</td>\n",
       "      <td>2010-02-05</td>\n",
       "      <td>24924.50</td>\n",
       "      <td>False</td>\n",
       "      <td>A</td>\n",
       "      <td>151315</td>\n",
       "      <td>42.31</td>\n",
       "      <td>2.572</td>\n",
       "      <td>NaN</td>\n",
       "      <td>NaN</td>\n",
       "      <td>NaN</td>\n",
       "      <td>NaN</td>\n",
       "      <td>NaN</td>\n",
       "      <td>211.096358</td>\n",
       "      <td>8.106</td>\n",
       "    </tr>\n",
       "    <tr>\n",
       "      <th>1</th>\n",
       "      <td>1</td>\n",
       "      <td>2</td>\n",
       "      <td>2010-02-05</td>\n",
       "      <td>50605.27</td>\n",
       "      <td>False</td>\n",
       "      <td>A</td>\n",
       "      <td>151315</td>\n",
       "      <td>42.31</td>\n",
       "      <td>2.572</td>\n",
       "      <td>NaN</td>\n",
       "      <td>NaN</td>\n",
       "      <td>NaN</td>\n",
       "      <td>NaN</td>\n",
       "      <td>NaN</td>\n",
       "      <td>211.096358</td>\n",
       "      <td>8.106</td>\n",
       "    </tr>\n",
       "    <tr>\n",
       "      <th>2</th>\n",
       "      <td>1</td>\n",
       "      <td>3</td>\n",
       "      <td>2010-02-05</td>\n",
       "      <td>13740.12</td>\n",
       "      <td>False</td>\n",
       "      <td>A</td>\n",
       "      <td>151315</td>\n",
       "      <td>42.31</td>\n",
       "      <td>2.572</td>\n",
       "      <td>NaN</td>\n",
       "      <td>NaN</td>\n",
       "      <td>NaN</td>\n",
       "      <td>NaN</td>\n",
       "      <td>NaN</td>\n",
       "      <td>211.096358</td>\n",
       "      <td>8.106</td>\n",
       "    </tr>\n",
       "    <tr>\n",
       "      <th>3</th>\n",
       "      <td>1</td>\n",
       "      <td>4</td>\n",
       "      <td>2010-02-05</td>\n",
       "      <td>39954.04</td>\n",
       "      <td>False</td>\n",
       "      <td>A</td>\n",
       "      <td>151315</td>\n",
       "      <td>42.31</td>\n",
       "      <td>2.572</td>\n",
       "      <td>NaN</td>\n",
       "      <td>NaN</td>\n",
       "      <td>NaN</td>\n",
       "      <td>NaN</td>\n",
       "      <td>NaN</td>\n",
       "      <td>211.096358</td>\n",
       "      <td>8.106</td>\n",
       "    </tr>\n",
       "    <tr>\n",
       "      <th>4</th>\n",
       "      <td>1</td>\n",
       "      <td>5</td>\n",
       "      <td>2010-02-05</td>\n",
       "      <td>32229.38</td>\n",
       "      <td>False</td>\n",
       "      <td>A</td>\n",
       "      <td>151315</td>\n",
       "      <td>42.31</td>\n",
       "      <td>2.572</td>\n",
       "      <td>NaN</td>\n",
       "      <td>NaN</td>\n",
       "      <td>NaN</td>\n",
       "      <td>NaN</td>\n",
       "      <td>NaN</td>\n",
       "      <td>211.096358</td>\n",
       "      <td>8.106</td>\n",
       "    </tr>\n",
       "    <tr>\n",
       "      <th>5</th>\n",
       "      <td>1</td>\n",
       "      <td>6</td>\n",
       "      <td>2010-02-05</td>\n",
       "      <td>5749.03</td>\n",
       "      <td>False</td>\n",
       "      <td>A</td>\n",
       "      <td>151315</td>\n",
       "      <td>42.31</td>\n",
       "      <td>2.572</td>\n",
       "      <td>NaN</td>\n",
       "      <td>NaN</td>\n",
       "      <td>NaN</td>\n",
       "      <td>NaN</td>\n",
       "      <td>NaN</td>\n",
       "      <td>211.096358</td>\n",
       "      <td>8.106</td>\n",
       "    </tr>\n",
       "    <tr>\n",
       "      <th>6</th>\n",
       "      <td>1</td>\n",
       "      <td>7</td>\n",
       "      <td>2010-02-05</td>\n",
       "      <td>21084.08</td>\n",
       "      <td>False</td>\n",
       "      <td>A</td>\n",
       "      <td>151315</td>\n",
       "      <td>42.31</td>\n",
       "      <td>2.572</td>\n",
       "      <td>NaN</td>\n",
       "      <td>NaN</td>\n",
       "      <td>NaN</td>\n",
       "      <td>NaN</td>\n",
       "      <td>NaN</td>\n",
       "      <td>211.096358</td>\n",
       "      <td>8.106</td>\n",
       "    </tr>\n",
       "    <tr>\n",
       "      <th>7</th>\n",
       "      <td>1</td>\n",
       "      <td>8</td>\n",
       "      <td>2010-02-05</td>\n",
       "      <td>40129.01</td>\n",
       "      <td>False</td>\n",
       "      <td>A</td>\n",
       "      <td>151315</td>\n",
       "      <td>42.31</td>\n",
       "      <td>2.572</td>\n",
       "      <td>NaN</td>\n",
       "      <td>NaN</td>\n",
       "      <td>NaN</td>\n",
       "      <td>NaN</td>\n",
       "      <td>NaN</td>\n",
       "      <td>211.096358</td>\n",
       "      <td>8.106</td>\n",
       "    </tr>\n",
       "    <tr>\n",
       "      <th>8</th>\n",
       "      <td>1</td>\n",
       "      <td>9</td>\n",
       "      <td>2010-02-05</td>\n",
       "      <td>16930.99</td>\n",
       "      <td>False</td>\n",
       "      <td>A</td>\n",
       "      <td>151315</td>\n",
       "      <td>42.31</td>\n",
       "      <td>2.572</td>\n",
       "      <td>NaN</td>\n",
       "      <td>NaN</td>\n",
       "      <td>NaN</td>\n",
       "      <td>NaN</td>\n",
       "      <td>NaN</td>\n",
       "      <td>211.096358</td>\n",
       "      <td>8.106</td>\n",
       "    </tr>\n",
       "    <tr>\n",
       "      <th>9</th>\n",
       "      <td>1</td>\n",
       "      <td>10</td>\n",
       "      <td>2010-02-05</td>\n",
       "      <td>30721.50</td>\n",
       "      <td>False</td>\n",
       "      <td>A</td>\n",
       "      <td>151315</td>\n",
       "      <td>42.31</td>\n",
       "      <td>2.572</td>\n",
       "      <td>NaN</td>\n",
       "      <td>NaN</td>\n",
       "      <td>NaN</td>\n",
       "      <td>NaN</td>\n",
       "      <td>NaN</td>\n",
       "      <td>211.096358</td>\n",
       "      <td>8.106</td>\n",
       "    </tr>\n",
       "  </tbody>\n",
       "</table>\n",
       "</div>"
      ],
      "text/plain": [
       "   Store  Dept        Date  Weekly_Sales  IsHoliday Type    Size  Temperature  \\\n",
       "0      1     1  2010-02-05      24924.50      False    A  151315        42.31   \n",
       "1      1     2  2010-02-05      50605.27      False    A  151315        42.31   \n",
       "2      1     3  2010-02-05      13740.12      False    A  151315        42.31   \n",
       "3      1     4  2010-02-05      39954.04      False    A  151315        42.31   \n",
       "4      1     5  2010-02-05      32229.38      False    A  151315        42.31   \n",
       "5      1     6  2010-02-05       5749.03      False    A  151315        42.31   \n",
       "6      1     7  2010-02-05      21084.08      False    A  151315        42.31   \n",
       "7      1     8  2010-02-05      40129.01      False    A  151315        42.31   \n",
       "8      1     9  2010-02-05      16930.99      False    A  151315        42.31   \n",
       "9      1    10  2010-02-05      30721.50      False    A  151315        42.31   \n",
       "\n",
       "   Fuel_Price  MarkDown1  MarkDown2  MarkDown3  MarkDown4  MarkDown5  \\\n",
       "0       2.572        NaN        NaN        NaN        NaN        NaN   \n",
       "1       2.572        NaN        NaN        NaN        NaN        NaN   \n",
       "2       2.572        NaN        NaN        NaN        NaN        NaN   \n",
       "3       2.572        NaN        NaN        NaN        NaN        NaN   \n",
       "4       2.572        NaN        NaN        NaN        NaN        NaN   \n",
       "5       2.572        NaN        NaN        NaN        NaN        NaN   \n",
       "6       2.572        NaN        NaN        NaN        NaN        NaN   \n",
       "7       2.572        NaN        NaN        NaN        NaN        NaN   \n",
       "8       2.572        NaN        NaN        NaN        NaN        NaN   \n",
       "9       2.572        NaN        NaN        NaN        NaN        NaN   \n",
       "\n",
       "          CPI  Unemployment  \n",
       "0  211.096358         8.106  \n",
       "1  211.096358         8.106  \n",
       "2  211.096358         8.106  \n",
       "3  211.096358         8.106  \n",
       "4  211.096358         8.106  \n",
       "5  211.096358         8.106  \n",
       "6  211.096358         8.106  \n",
       "7  211.096358         8.106  \n",
       "8  211.096358         8.106  \n",
       "9  211.096358         8.106  "
      ]
     },
     "execution_count": 42,
     "metadata": {},
     "output_type": "execute_result"
    }
   ],
   "source": [
    "# Now, load in the dataset and inspect the head to make sure everything loaded correctly\n",
    "df = pd.read_csv('walmart_data_not_cleaned.csv')\n",
    "df.info()\n",
    "print('\\n')\n",
    "df.head(10)"
   ]
  },
  {
   "cell_type": "code",
   "execution_count": 43,
   "metadata": {},
   "outputs": [
    {
     "data": {
      "text/plain": [
       "Store                0\n",
       "Dept                 0\n",
       "Date                 0\n",
       "Weekly_Sales         0\n",
       "IsHoliday            0\n",
       "Type                 0\n",
       "Size                 0\n",
       "Temperature          0\n",
       "Fuel_Price           0\n",
       "MarkDown1       270889\n",
       "MarkDown2       310322\n",
       "MarkDown3       284479\n",
       "MarkDown4       286603\n",
       "MarkDown5       270138\n",
       "CPI                  0\n",
       "Unemployment         0\n",
       "dtype: int64"
      ]
     },
     "execution_count": 43,
     "metadata": {},
     "output_type": "execute_result"
    }
   ],
   "source": [
    "df.isna().sum()"
   ]
  },
  {
   "cell_type": "code",
   "execution_count": 44,
   "metadata": {},
   "outputs": [
    {
     "name": "stdout",
     "output_type": "stream",
     "text": [
      "column: Store\n",
      "[ 1  2  3  4  5  6  7  8  9 10 11 12 13 14 15 16 17 18 19 20 21 22 23 24\n",
      " 25 26 27 28 29 30 31 32 33 34 35 36 37 38 39 40 41 42 43 44 45]\n",
      "column: Dept\n",
      "[ 1  2  3  4  5  6  7  8  9 10 11 12 13 14 16 17 18 19 20 21 22 23 24 25\n",
      " 26 27 28 29 30 31 32 33 34 35 36 37 38 40 41 42 44 45 46 47 48 49 51 52\n",
      " 54 55 56 58 59 60 67 71 72 74 79 80 81 82 83 85 87 90 91 92 93 94 95 97\n",
      " 98 78 96 99 77 39 50 43 65]\n",
      "column: Date\n",
      "['2010-02-05' '2010-02-12' '2010-02-19' '2010-02-26' '2010-03-05'\n",
      " '2010-03-12' '2010-03-19' '2010-03-26' '2010-04-02' '2010-04-09'\n",
      " '2010-04-16' '2010-04-23' '2010-04-30' '2010-05-07' '2010-05-14'\n",
      " '2010-05-21' '2010-05-28' '2010-06-04' '2010-06-11' '2010-06-18'\n",
      " '2010-06-25' '2010-07-02' '2010-07-09' '2010-07-16' '2010-07-23'\n",
      " '2010-07-30' '2010-08-06' '2010-08-13' '2010-08-20' '2010-08-27'\n",
      " '2010-09-03' '2010-09-10' '2010-09-17' '2010-09-24' '2010-10-01'\n",
      " '2010-10-08' '2010-10-15' '2010-10-22' '2010-10-29' '2010-11-05'\n",
      " '2010-11-12' '2010-11-19' '2010-11-26' '2010-12-03' '2010-12-10'\n",
      " '2010-12-17' '2010-12-24' '2010-12-31' '2011-01-07' '2011-01-14'\n",
      " '2011-01-21' '2011-01-28' '2011-02-04' '2011-02-11' '2011-02-18'\n",
      " '2011-02-25' '2011-03-04' '2011-03-11' '2011-03-18' '2011-03-25'\n",
      " '2011-04-01' '2011-04-08' '2011-04-15' '2011-04-22' '2011-04-29'\n",
      " '2011-05-06' '2011-05-13' '2011-05-20' '2011-05-27' '2011-06-03'\n",
      " '2011-06-10' '2011-06-17' '2011-06-24' '2011-07-01' '2011-07-08'\n",
      " '2011-07-15' '2011-07-22' '2011-07-29' '2011-08-05' '2011-08-12'\n",
      " '2011-08-19' '2011-08-26' '2011-09-02' '2011-09-09' '2011-09-16'\n",
      " '2011-09-23' '2011-09-30' '2011-10-07' '2011-10-14' '2011-10-21'\n",
      " '2011-10-28' '2011-11-04' '2011-11-11' '2011-11-18' '2011-11-25'\n",
      " '2011-12-02' '2011-12-09' '2011-12-16' '2011-12-23' '2011-12-30'\n",
      " '2012-01-06' '2012-01-13' '2012-01-20' '2012-01-27' '2012-02-03'\n",
      " '2012-02-10' '2012-02-17' '2012-02-24' '2012-03-02' '2012-03-09'\n",
      " '2012-03-16' '2012-03-23' '2012-03-30' '2012-04-06' '2012-04-13'\n",
      " '2012-04-20' '2012-04-27' '2012-05-04' '2012-05-11' '2012-05-18'\n",
      " '2012-05-25' '2012-06-01' '2012-06-08' '2012-06-15' '2012-06-22'\n",
      " '2012-06-29' '2012-07-06' '2012-07-13' '2012-07-20' '2012-07-27'\n",
      " '2012-08-03' '2012-08-10' '2012-08-17' '2012-08-24' '2012-08-31'\n",
      " '2012-09-07' '2012-09-14' '2012-09-21' '2012-09-28' '2012-10-05'\n",
      " '2012-10-12' '2012-10-19' '2012-10-26']\n",
      "column: Weekly_Sales\n",
      "[24924.5  50605.27 13740.12 ... 56017.47  6817.48  1076.8 ]\n",
      "column: IsHoliday\n",
      "[False  True]\n",
      "column: Type\n",
      "['A' 'B' 'C']\n",
      "column: Size\n",
      "[151315 202307  37392 205863  34875 202505  70713 155078 125833 126512\n",
      " 207499 112238 219622 200898 123737  57197  93188 120653 203819 203742\n",
      " 140167 119557 114533 128107 152513 204184 206302  93638  42988 203750\n",
      " 203007  39690 158114 103681  39910 184109 155083 196321  41062 118221]\n",
      "column: Temperature\n",
      "[42.31 38.51 39.93 ... 75.87 77.55 74.09]\n",
      "column: Fuel_Price\n",
      "[2.572 2.548 2.514 2.561 2.625 2.667 2.72  2.732 2.719 2.77  2.808 2.795\n",
      " 2.78  2.835 2.854 2.826 2.759 2.705 2.668 2.637 2.653 2.669 2.642 2.623\n",
      " 2.608 2.64  2.627 2.692 2.664 2.619 2.577 2.565 2.582 2.624 2.603 2.633\n",
      " 2.725 2.716 2.689 2.728 2.771 2.735 2.708 2.843 2.869 2.886 2.943 2.976\n",
      " 2.983 3.016 3.01  2.989 3.022 3.045 3.065 3.288 3.459 3.488 3.473 3.524\n",
      " 3.622 3.743 3.807 3.81  3.906 3.899 3.907 3.786 3.699 3.648 3.637 3.594\n",
      " 3.48  3.575 3.651 3.682 3.684 3.638 3.554 3.523 3.533 3.546 3.526 3.467\n",
      " 3.355 3.285 3.274 3.353 3.372 3.332 3.297 3.308 3.236 3.172 3.158 3.159\n",
      " 3.112 3.129 3.157 3.261 3.268 3.29  3.36  3.409 3.51  3.555 3.63  3.669\n",
      " 3.734 3.787 3.845 3.891 3.877 3.814 3.749 3.688 3.561 3.501 3.452 3.393\n",
      " 3.346 3.286 3.227 3.256 3.311 3.407 3.417 3.494 3.571 3.62  3.73  3.717\n",
      " 3.721 3.666 3.617 3.601 3.506 2.598 2.573 2.54  2.59  2.654 2.704 2.743\n",
      " 2.752 2.74  2.773 2.81  2.805 2.787 2.836 2.845 2.82  2.756 2.701 2.635\n",
      " 2.621 2.612 2.65  2.698 2.671 2.584 2.574 2.594 2.645 2.736 2.718 2.699\n",
      " 2.741 2.727 2.86  2.884 2.887 2.955 2.98  2.992 3.017 2.996 3.033 3.058\n",
      " 3.087 3.305 3.461 3.495 3.521 3.605 3.724 3.781 3.866 3.872 3.881 3.771\n",
      " 3.683 3.64  3.618 3.57  3.504 3.469 3.563 3.627 3.659 3.662 3.55  3.532\n",
      " 3.371 3.299 3.283 3.361 3.362 3.322 3.294 3.225 3.176 3.153 3.149 3.103\n",
      " 3.119 3.263 3.273 3.354 3.411 3.493 3.541 3.619 3.667 3.707 3.759 3.82\n",
      " 3.864 3.747 3.685 3.551 3.483 3.433 3.329 3.257 3.187 3.224 3.356 3.374\n",
      " 3.476 3.552 3.61  3.646 3.709 3.706 3.603 3.514 2.58  2.55  2.586 2.62\n",
      " 2.684 2.717 2.75  2.765 2.776 2.766 2.788 2.737 2.7   2.674 2.715 2.711\n",
      " 2.691 2.69  2.723 2.731 2.8   2.793 2.745 2.762 2.748 2.729 2.758 2.742\n",
      " 2.712 2.778 2.781 2.829 2.882 2.911 2.973 3.008 3.011 3.037 3.051 3.101\n",
      " 3.232 3.406 3.414 3.611 3.636 3.663 3.735 3.767 3.828 3.795 3.763 3.697\n",
      " 3.661 3.597 3.54  3.545 3.547 3.542 3.499 3.485 3.511 3.566 3.596 3.581\n",
      " 3.538 3.498 3.491 3.548 3.527 3.505 3.479 3.424 3.378 3.331 3.266 3.173\n",
      " 3.095 3.077 3.055 3.038 3.031 3.113 3.191 3.486 3.664 3.75  3.854 3.901\n",
      " 3.936 3.927 3.903 3.87  3.837 3.804 3.764 3.741 3.723 3.693 3.613 3.585\n",
      " 3.528 3.509 3.558 3.556 3.765 3.789 3.779 3.76  3.686 2.962 2.828 2.915\n",
      " 2.825 2.877 3.034 3.054 3.086 3.004 3.109 3.05  3.105 3.127 3.145 3.12\n",
      " 2.941 3.057 2.935 3.084 2.978 3.1   2.971 3.123 3.049 3.041 2.961 3.028\n",
      " 2.939 3.001 2.924 3.08  3.014 3.13  3.009 3.047 3.162 3.091 3.125 3.148\n",
      " 3.287 3.312 3.336 3.231 3.348 3.381 3.43  3.398 3.674 3.892 3.716 3.772\n",
      " 3.818 4.089 3.917 4.151 4.193 4.202 3.99  3.933 3.893 3.981 3.935 3.842\n",
      " 3.793 3.694 3.803 3.794 3.798 3.784 3.827 3.698 3.843 3.677 3.701 3.644\n",
      " 3.489 3.428 3.443 3.477 3.66  3.675 3.543 3.722 3.95  3.882 3.963 4.273\n",
      " 4.288 4.294 4.282 4.254 4.111 4.088 4.058 4.186 4.308 4.127 4.277 4.103\n",
      " 4.144 4.014 3.875 3.589 3.769 3.595 3.811 4.002 4.055 3.886 4.124 3.966\n",
      " 4.125 4.132 4.468 4.449 4.301 2.946 2.987 2.925 3.083 3.09  2.949 3.043\n",
      " 3.094 3.044 3.013 3.161 3.203 3.223 3.342 3.53  3.692 3.909 4.003 3.868\n",
      " 4.134 4.169 4.087 4.031 3.898 3.705 3.805 3.74  3.913 3.918 3.727 3.824\n",
      " 3.813 3.6   3.599 3.657 3.702 4.178 4.25  4.038 4.121 4.222 4.171 4.11\n",
      " 4.293 3.726 4.093 4.133 2.666 2.681 2.733 2.782 2.819 2.842 2.936 2.948\n",
      " 2.95  2.908 2.871 2.841 2.814 2.802 2.791 2.797 2.837 2.85  2.868 2.87\n",
      " 2.875 2.872 2.853 2.849 2.831 2.83  2.812 2.817 2.846 2.891 2.903 2.934\n",
      " 2.96  2.974 3.062 3.23  3.435 3.487 3.616 3.655 3.744 3.77  3.802 3.778\n",
      " 3.752 3.732 3.704 3.668 3.553 3.574 3.606 3.578 3.58  3.641 3.623 3.592\n",
      " 3.567 3.579 3.513 3.445 3.389 3.341 3.282 3.186 3.056 3.116 3.242 3.38\n",
      " 3.529 3.671 3.833 3.831 3.809 3.808 3.801 3.788 3.776 3.756 3.737 3.681\n",
      " 3.537 3.512 3.582 3.624 3.689 3.821 3.815 3.797 3.755 2.784 2.754 2.777\n",
      " 2.818 2.844 2.899 2.902 2.921 2.966 2.982 2.958 2.847 2.809 2.815 2.783\n",
      " 2.779 2.755 2.706 2.713 2.707 2.764 2.917 2.931 3.    3.039 3.046 3.14\n",
      " 3.141 3.179 3.193 3.205 3.229 3.237 3.239 3.245 3.631 3.625 3.72  3.962\n",
      " 4.046 4.066 4.062 3.985 3.922 3.748 3.711 3.829 3.812 3.703 3.738 3.742\n",
      " 3.645 3.583 3.569 3.492 3.415 3.413 3.422 3.695 3.739 3.816 3.848 3.862\n",
      " 3.9   3.953 3.996 4.044 4.027 4.004 3.951 3.889 3.564 3.475 3.647 3.654\n",
      " 3.834 3.867 3.911 3.948 3.997 4.    3.969 2.954 2.94  2.909 2.91  2.919\n",
      " 2.938 2.963 2.957 3.021 3.042 3.096 3.006 2.972 2.942 2.933 2.932 2.923\n",
      " 2.913 2.885 2.84  2.999 3.138 3.2   3.255 3.301 3.309 3.351 3.367 3.391\n",
      " 3.402 3.4   3.416 3.42  3.796 3.895 4.061 4.117 4.192 4.211 4.069 4.025\n",
      " 3.989 3.964 3.916 3.915 3.972 4.02  3.995 3.942 3.879 3.93  3.937 3.858\n",
      " 3.775 3.757 3.719 3.587 3.826 3.874 3.983 4.021 4.054 4.098 4.143 4.187\n",
      " 4.17  4.163 4.029 3.979 3.871 3.819 3.863 4.026 4.076 4.203 4.158 4.153\n",
      " 4.071 2.747 2.753 2.834 2.895 2.981 2.906 2.857 2.806 2.796 2.792 2.878\n",
      " 3.03  3.07  3.132 3.139 3.15  3.177 3.215 3.243 3.24  3.281 3.437 3.634\n",
      " 3.823 3.919 3.988 4.078 4.095 4.101 4.034 3.973 3.924 3.873 3.851 3.88\n",
      " 3.758 3.633 3.604 3.586 3.536 3.47  3.439 3.568 3.751 3.876 3.921 3.957\n",
      " 4.023 3.991 3.947 3.85  3.746 3.629 3.577 3.84  3.884 4.056 4.018 2.545\n",
      " 2.539 2.472 2.52  2.769 2.786 2.767 2.615 2.601 2.606 2.596 2.542 2.602\n",
      " 2.644 2.604 2.562 2.533 2.513 2.578 2.567 2.595 2.68  2.655 2.694 2.813\n",
      " 2.852 2.863 2.995 3.053 3.448 3.92  3.925 3.69  3.502 3.44  3.652 3.608\n",
      " 3.534 3.481 3.441 3.328 3.262 3.234 3.306 3.254 3.26  3.181 3.164 3.147\n",
      " 3.133 3.098 3.275 3.313 3.421 3.462 3.503 3.934 3.888 3.835 3.713 3.358\n",
      " 3.392 3.404 3.49  3.576]\n",
      "column: MarkDown1\n",
      "[     nan 10382.9   6074.12 ...  1956.28  2004.02  4018.91]\n",
      "column: MarkDown2\n",
      "[    nan 6115.67  254.39 ...   92.28   20.64   58.08]\n",
      "column: MarkDown3\n",
      "[   nan 215.07  51.98 ...  18.82   7.89   3.18]\n",
      "column: MarkDown4\n",
      "[    nan 2406.62  427.39 ...  599.32  437.73  211.94]\n",
      "column: MarkDown5\n",
      "[    nan 6551.42 5988.57 ... 3990.54 1537.49  858.33]\n",
      "column: CPI\n"
     ]
    },
    {
     "name": "stdout",
     "output_type": "stream",
     "text": [
      "[211.0963582 211.2421698 211.2891429 ... 214.6772833 214.7212488\n",
      " 214.7415392]\n",
      "column: Unemployment\n",
      "[ 8.106  7.808  7.787  7.838  7.742  7.682  7.962  7.866  7.348  7.143\n",
      "  6.908  6.573  8.324  8.2    8.099  8.163  8.028  7.931  7.852  7.441\n",
      "  7.057  6.891  6.565  6.17   7.368  7.343  7.346  7.564  7.551  7.574\n",
      "  7.567  7.197  6.833  6.664  6.334  6.034  8.623  7.896  7.372  7.127\n",
      "  6.51   5.946  5.644  5.143  4.607  4.308  4.077  3.879  6.566  6.465\n",
      "  6.496  6.768  6.634  6.489  6.529  6.3    5.943  5.801  5.603  5.422\n",
      "  7.259  7.092  6.973  7.007  6.858  6.855  6.925  6.551  6.132  5.964\n",
      "  5.668  5.329  9.014  8.963  9.017  9.137  8.818  8.595  8.622  8.513\n",
      "  8.256  8.09   7.872  7.557  6.299  6.29   6.315  6.433  6.262  6.297\n",
      "  6.425  6.123  5.825  5.679  5.401  5.124  6.415  6.384  6.442  6.56\n",
      "  6.416  6.38   6.404  6.054  5.667  5.539  5.277  4.954  9.765  9.524\n",
      "  9.199  9.003  8.744  8.494  8.257  7.874  7.545  7.382  7.17   6.943\n",
      " 13.975 14.099 14.18  14.313 14.021 13.736 13.503 12.89  12.187 11.627\n",
      " 10.926 10.199  8.316  8.107  7.951  7.795  7.47   7.193  6.877  6.392\n",
      "  6.104  5.965  5.765  5.621  8.992  8.899  8.743  8.724  8.549  8.521\n",
      "  8.625  8.523  8.424  8.567  8.684  8.667  8.35   8.185  8.067  7.771\n",
      "  7.658  7.806  7.943  8.15   8.193  7.992  7.039  6.842  6.868  6.986\n",
      "  6.614  6.339  6.338  6.232  6.162  6.169  6.061  5.847  6.548  6.635\n",
      "  6.697  6.885  6.866  6.774  6.745  6.617  6.403  6.235  5.936  5.527\n",
      "  9.202  9.269  9.342  9.331  9.131  8.975  8.89   8.471  8.075  8.304\n",
      "  8.535  8.243  8.187  7.856  7.527  7.484  7.287  7.274  7.082  6.961\n",
      "  7.139  7.28   7.293  8.283  8.348  8.433  8.572  8.458  8.252  8.023\n",
      "  7.706  7.503  7.671  7.753  7.543  5.892  5.435  5.326  5.287  5.114\n",
      "  4.781  4.584  4.42   4.261  4.125  4.156  4.145  8.326  8.211  8.117\n",
      "  8.275  8.212  8.358  8.454  8.659  8.983  8.953  8.693  8.488  8.512\n",
      "  8.445  8.149  7.907  7.818  7.767  7.598  7.467  7.489  7.405  7.138\n",
      "  8.237  8.058  7.982  8.021  7.827  7.725  7.85   7.906  8.009  8.253\n",
      "  8.239  8.    10.064 10.16  10.409 10.524 10.256  9.966  9.863  9.357\n",
      "  8.988  9.14   9.419  9.151 10.115  9.849  9.495  9.265  8.951  8.687\n",
      "  8.442  8.01   7.603  7.396  7.147  6.895  9.521  9.593  9.816 10.21\n",
      " 10.398 10.581 10.641 10.148  9.653  9.575  9.285  8.839  9.262  9.051\n",
      "  8.861  8.763  8.745  8.876  8.665  8.554  8.464  8.36   8.476  8.395\n",
      "  8.3    8.177  7.716  7.244  6.989  6.623  6.228  7.541  7.363  7.335\n",
      "  7.508  7.241  6.934  6.901  6.759  6.589  6.547  6.432  6.195  8.119\n",
      "  7.972  7.804  7.61   7.224  6.906  6.078  5.774  5.407  5.217]\n"
     ]
    }
   ],
   "source": [
    "for column in df:\n",
    "    print(\"column: \" + column)\n",
    "    print (df[column].unique())"
   ]
  },
  {
   "cell_type": "markdown",
   "metadata": {},
   "source": [
    "Great! Everything looks just like we left it as.  Now, we can begin cleaning the data. \n",
    "\n",
    "Before we jump right into data cleaning,. we'll want to consider our process first.  Answer the following questions below:\n",
    "\n",
    "What sorts of problems should we be checking for?  Are there any obvious issues that we'll need to deal with? What are some other issues that this dataset could contain that might not be immediately obvious?  \n",
    "\n",
    "Write your answer below this line:\n",
    "________________________________________________________________________________________________________________________________\n",
    "\n",
    "\n",
    "Look for Nan's, outliers, categorical data as numbers, numbers as strings.\n",
    "\n",
    " \n",
    "\n",
    "## Dealing with Oversized Datasets\n",
    "\n",
    "This dataset is quite large. Often, when starting out on a project, its a good idea to build the model on a subset of the data so that we're not bogged down by large runtimes. Let's investigate the dataset a bit to get a feel for if this is a good idea. \n",
    "\n",
    "In the cell below, check how many rows this dataset contains."
   ]
  },
  {
   "cell_type": "code",
   "execution_count": 45,
   "metadata": {},
   "outputs": [
    {
     "name": "stdout",
     "output_type": "stream",
     "text": [
      "<class 'pandas.core.frame.DataFrame'>\n",
      "RangeIndex: 421570 entries, 0 to 421569\n",
      "Data columns (total 16 columns):\n",
      "Store           421570 non-null int64\n",
      "Dept            421570 non-null int64\n",
      "Date            421570 non-null object\n",
      "Weekly_Sales    421570 non-null float64\n",
      "IsHoliday       421570 non-null bool\n",
      "Type            421570 non-null object\n",
      "Size            421570 non-null int64\n",
      "Temperature     421570 non-null float64\n",
      "Fuel_Price      421570 non-null float64\n",
      "MarkDown1       150681 non-null float64\n",
      "MarkDown2       111248 non-null float64\n",
      "MarkDown3       137091 non-null float64\n",
      "MarkDown4       134967 non-null float64\n",
      "MarkDown5       151432 non-null float64\n",
      "CPI             421570 non-null float64\n",
      "Unemployment    421570 non-null float64\n",
      "dtypes: bool(1), float64(10), int64(3), object(2)\n",
      "memory usage: 48.6+ MB\n"
     ]
    }
   ],
   "source": [
    "df.info()"
   ]
  },
  {
   "cell_type": "markdown",
   "metadata": {},
   "source": [
    "This dataset contains `421570` rows! That's large enough that we should consider building our model on a subset of the data to increase our speed during the modeling step.  Modeling is an iterative process, and we'll likely have to fit out model multiple times as we tweak it--by subsetting our dataset, we'll protect ourselves from insane runtimes everytime we make a small change and need to rerun our model. Once we have a prototype built, we can always add all the extra data back in!\n",
    "\n",
    "### Subsetting our Dataset\n",
    "\n",
    "The typical method for subsetting our dataset is to just take a random sample of data.  This is an option for us.  However, when we inspect the columns of our dataset in a bit, we'll notice that we have 2 categorical columns with very high cardinality--`Store`, and `Dept`.  This provides us with an opportunity to reduce dimensionality while subsampling.  Instead of building a model on all the stores and departments in our dataset, we'll subset our data so that it only contains stores 1 through 10.  \n",
    "\n",
    "In the cell below, slice our dataset so that only rows with a `Store` value between 1 and 10 (inclusive) remain. "
   ]
  },
  {
   "cell_type": "code",
   "execution_count": 46,
   "metadata": {},
   "outputs": [],
   "source": [
    "df = df[df[\"Store\"] <= 10]"
   ]
  },
  {
   "cell_type": "code",
   "execution_count": 47,
   "metadata": {},
   "outputs": [
    {
     "data": {
      "text/plain": [
       "97839"
      ]
     },
     "execution_count": 47,
     "metadata": {},
     "output_type": "execute_result"
    }
   ],
   "source": [
    "len(df)"
   ]
  },
  {
   "cell_type": "markdown",
   "metadata": {},
   "source": [
    "## Starting our Data Cleaning\n",
    "\n",
    "We'll begin by dealing with the most obvious issues--data types and null values. \n",
    "\n",
    "First, we'll check the different types of encoding that each column has, and then we'll check for null values and examine our options for dealing with them.\n",
    "\n",
    "### Checking Data Types\n",
    "\n",
    "In the cell below, use the appropriate method to check the data type of each column. "
   ]
  },
  {
   "cell_type": "code",
   "execution_count": 48,
   "metadata": {},
   "outputs": [
    {
     "name": "stdout",
     "output_type": "stream",
     "text": [
      "<class 'pandas.core.frame.DataFrame'>\n",
      "Int64Index: 97839 entries, 0 to 97838\n",
      "Data columns (total 16 columns):\n",
      "Store           97839 non-null int64\n",
      "Dept            97839 non-null int64\n",
      "Date            97839 non-null object\n",
      "Weekly_Sales    97839 non-null float64\n",
      "IsHoliday       97839 non-null bool\n",
      "Type            97839 non-null object\n",
      "Size            97839 non-null int64\n",
      "Temperature     97839 non-null float64\n",
      "Fuel_Price      97839 non-null float64\n",
      "MarkDown1       35013 non-null float64\n",
      "MarkDown2       27232 non-null float64\n",
      "MarkDown3       32513 non-null float64\n",
      "MarkDown4       34485 non-null float64\n",
      "MarkDown5       35013 non-null float64\n",
      "CPI             97839 non-null float64\n",
      "Unemployment    97839 non-null float64\n",
      "dtypes: bool(1), float64(10), int64(3), object(2)\n",
      "memory usage: 12.0+ MB\n"
     ]
    }
   ],
   "source": [
    "df.info()"
   ]
  },
  {
   "cell_type": "markdown",
   "metadata": {},
   "source": [
    "Let's investigate the unique values inside of the `Store` and `Dept` columns.\n",
    "\n",
    "In the cells below, use the appropriate DataFrame method to display all the unique values in the `Store` column, and in the `Dept` column. "
   ]
  },
  {
   "cell_type": "code",
   "execution_count": 49,
   "metadata": {},
   "outputs": [
    {
     "data": {
      "text/plain": [
       "array([ 1,  2,  3,  4,  5,  6,  7,  8,  9, 10])"
      ]
     },
     "execution_count": 49,
     "metadata": {},
     "output_type": "execute_result"
    }
   ],
   "source": [
    "df.Store.unique()"
   ]
  },
  {
   "cell_type": "code",
   "execution_count": 50,
   "metadata": {},
   "outputs": [
    {
     "data": {
      "text/plain": [
       "array([ 1,  2,  3,  4,  5,  6,  7,  8,  9, 10, 11, 12, 13, 14, 16, 17, 18,\n",
       "       19, 20, 21, 22, 23, 24, 25, 26, 27, 28, 29, 30, 31, 32, 33, 34, 35,\n",
       "       36, 37, 38, 40, 41, 42, 44, 45, 46, 47, 48, 49, 51, 52, 54, 55, 56,\n",
       "       58, 59, 60, 67, 71, 72, 74, 79, 80, 81, 82, 83, 85, 87, 90, 91, 92,\n",
       "       93, 94, 95, 97, 98, 78, 96, 99, 77, 39, 50])"
      ]
     },
     "execution_count": 50,
     "metadata": {},
     "output_type": "execute_result"
    }
   ],
   "source": [
    "df.Dept.unique()"
   ]
  },
  {
   "cell_type": "markdown",
   "metadata": {},
   "source": [
    "### Categorical Data Stored as Integers\n",
    "\n",
    "A common issue we usually check for at this stage is numeric columns that have accidentally been encoded as strings.  However, in this dataset, we'll notice that although the `Store` and `Dept` columns are both contain integer values, we can intuit that these are meant to be read as categorical data.  We'll want to convert these columns to strings, so that they will be one-hot encoded when we get around to dealing with our categorical columns.  \n",
    "\n",
    "You may be wondering why we don't just leave it as is.  This is because we would accidentally be creating numeric relationships between the different stores that shouldn't be there.  If left with numeric encoding, our model would interpret Store 2 as twice Store 1, but half of Store 4.  These sorts of mathematical relationships don't make sense--we'd much rather these be treated as categories, as the dataset intends.  \n",
    "\n",
    "In the cell below, cast the `Store` and `Dept` columns to strings. "
   ]
  },
  {
   "cell_type": "code",
   "execution_count": 51,
   "metadata": {},
   "outputs": [],
   "source": [
    "df.Store = df.Store.astype(\"str\")\n",
    "df.Dept = df.Dept.astype(\"str\")"
   ]
  },
  {
   "cell_type": "markdown",
   "metadata": {},
   "source": [
    "### Numeric Data Stored as Strings\n",
    "\n",
    "It looks like we have two columns that are encoded as strings (remember, pandas denotes string columns as `object`)--`Date` and `Type`.\n",
    "\n",
    "We don't need to worry about `Date`--those should obviously be encoded as strings. Let's quickly check out the `Type` column just to ensure that it doesn't contain numeric data.\n",
    "\n",
    "In the cell below, get the unique values contained within the `Type` column. "
   ]
  },
  {
   "cell_type": "code",
   "execution_count": 52,
   "metadata": {},
   "outputs": [
    {
     "data": {
      "text/plain": [
       "array(['A', 'B'], dtype=object)"
      ]
     },
     "execution_count": 52,
     "metadata": {},
     "output_type": "execute_result"
    }
   ],
   "source": [
    "df.Type.unique()"
   ]
  },
  {
   "cell_type": "markdown",
   "metadata": {},
   "source": [
    "Great job--the `Type` column is clearly a categorical column, and should currently be stored as a string.  Once we've dealt with null values, we'll deal with this and other categorical columns by one-hot encoding them. \n",
    "\n",
    "Let's double check the column encodings one more time to make sure that everything we did above worked correctly. "
   ]
  },
  {
   "cell_type": "code",
   "execution_count": 53,
   "metadata": {},
   "outputs": [
    {
     "name": "stdout",
     "output_type": "stream",
     "text": [
      "<class 'pandas.core.frame.DataFrame'>\n",
      "Int64Index: 97839 entries, 0 to 97838\n",
      "Data columns (total 16 columns):\n",
      "Store           97839 non-null object\n",
      "Dept            97839 non-null object\n",
      "Date            97839 non-null object\n",
      "Weekly_Sales    97839 non-null float64\n",
      "IsHoliday       97839 non-null bool\n",
      "Type            97839 non-null object\n",
      "Size            97839 non-null int64\n",
      "Temperature     97839 non-null float64\n",
      "Fuel_Price      97839 non-null float64\n",
      "MarkDown1       35013 non-null float64\n",
      "MarkDown2       27232 non-null float64\n",
      "MarkDown3       32513 non-null float64\n",
      "MarkDown4       34485 non-null float64\n",
      "MarkDown5       35013 non-null float64\n",
      "CPI             97839 non-null float64\n",
      "Unemployment    97839 non-null float64\n",
      "dtypes: bool(1), float64(10), int64(1), object(4)\n",
      "memory usage: 12.0+ MB\n"
     ]
    }
   ],
   "source": [
    "df.info()"
   ]
  },
  {
   "cell_type": "markdown",
   "metadata": {},
   "source": [
    "### Detecting and Dealing With Null Values\n",
    "\n",
    " Next, we'll need to check for null values. How we deal with the null values will be determined by the columns containing them, and how many null values exist in each.  \n",
    " \n",
    " In the cell below, use the appropriate pandas functionality to get a count of how many null values exist in each column in our DataFrame. "
   ]
  },
  {
   "cell_type": "code",
   "execution_count": 54,
   "metadata": {},
   "outputs": [
    {
     "data": {
      "text/plain": [
       "Store               0\n",
       "Dept                0\n",
       "Date                0\n",
       "Weekly_Sales        0\n",
       "IsHoliday           0\n",
       "Type                0\n",
       "Size                0\n",
       "Temperature         0\n",
       "Fuel_Price          0\n",
       "MarkDown1       62826\n",
       "MarkDown2       70607\n",
       "MarkDown3       65326\n",
       "MarkDown4       63354\n",
       "MarkDown5       62826\n",
       "CPI                 0\n",
       "Unemployment        0\n",
       "dtype: int64"
      ]
     },
     "execution_count": 54,
     "metadata": {},
     "output_type": "execute_result"
    }
   ],
   "source": [
    "df.isna().sum()"
   ]
  },
  {
   "cell_type": "markdown",
   "metadata": {},
   "source": [
    "**_QUESTION:_** Interpret the output above.  Do we know enough to have a strategy for dealing with these null values yet? Is dropping the rows a valid solution?  How about dropping the columns?  Can we replace them with interpolation, treat them as a categorical value, or deal with them through binning?  \n",
    "\n",
    "Write your answer below this line:\n",
    "________________________________________________________________________________\n",
    "\n",
    "I don't think we can know with 100% certainty, but it is most likely that the 5 markdown columns are categorical data and that some records belong to more than one category.\n",
    "\n",
    "\n",
    "Let's investigate these columns further.  In the cell below, get the top 20 value counts contained within `MarkDown3`."
   ]
  },
  {
   "cell_type": "code",
   "execution_count": 55,
   "metadata": {},
   "outputs": [
    {
     "data": {
      "text/plain": [
       "3.00     403\n",
       "1.00     331\n",
       "6.00     277\n",
       "1.65     217\n",
       "2.97     208\n",
       "2.00     197\n",
       "2.02     197\n",
       "0.55     193\n",
       "10.80    145\n",
       "8.11     145\n",
       "24.60    144\n",
       "4.20     141\n",
       "4.26     140\n",
       "6.50     140\n",
       "3.20     137\n",
       "0.22     136\n",
       "1.88     136\n",
       "6.01     135\n",
       "17.36    134\n",
       "0.25     134\n",
       "7.50     133\n",
       "3.39     133\n",
       "0.50     133\n",
       "0.60     132\n",
       "2.20     132\n",
       "3.72     130\n",
       "4.00     128\n",
       "0.24     127\n",
       "3.01     127\n",
       "1.71     126\n",
       "        ... \n",
       "0.51      62\n",
       "22.74     62\n",
       "1.04      62\n",
       "6.48      62\n",
       "24.70     62\n",
       "41.58     62\n",
       "0.68      62\n",
       "5.85      62\n",
       "2.46      62\n",
       "0.70      62\n",
       "4.54      62\n",
       "50.03     62\n",
       "4.46      62\n",
       "30.92     62\n",
       "1.40      62\n",
       "10.00     62\n",
       "30.18     62\n",
       "65.34     62\n",
       "42.75     61\n",
       "13.00     61\n",
       "10.75     61\n",
       "1.80      61\n",
       "8.08      61\n",
       "0.36      61\n",
       "52.06     61\n",
       "12.00     61\n",
       "6.02      61\n",
       "9.61      61\n",
       "68.00     61\n",
       "2.31      60\n",
       "Name: MarkDown3, Length: 425, dtype: int64"
      ]
     },
     "execution_count": 55,
     "metadata": {},
     "output_type": "execute_result"
    }
   ],
   "source": [
    "df[\"MarkDown3\"].value_counts()"
   ]
  },
  {
   "cell_type": "markdown",
   "metadata": {},
   "source": [
    "Now, let's get the descriptive statistics for each of the markdown columns. We want to see where the minimum and maximum values lie.  "
   ]
  },
  {
   "cell_type": "code",
   "execution_count": 56,
   "metadata": {},
   "outputs": [
    {
     "data": {
      "text/plain": [
       "count    35013.000000\n",
       "mean      7048.166982\n",
       "std       7656.783543\n",
       "min         35.940000\n",
       "25%       2639.050000\n",
       "50%       5126.540000\n",
       "75%       8813.810000\n",
       "max      75149.790000\n",
       "Name: MarkDown1, dtype: float64"
      ]
     },
     "execution_count": 56,
     "metadata": {},
     "output_type": "execute_result"
    }
   ],
   "source": [
    "df[\"MarkDown1\"].describe()"
   ]
  },
  {
   "cell_type": "code",
   "execution_count": 57,
   "metadata": {},
   "outputs": [
    {
     "data": {
      "text/plain": [
       "count     27232.000000\n",
       "mean       3210.994407\n",
       "std       10683.244951\n",
       "min         -10.980000\n",
       "25%          24.030000\n",
       "50%         148.950000\n",
       "75%        1555.570000\n",
       "max      104519.540000\n",
       "Name: MarkDown2, dtype: float64"
      ]
     },
     "execution_count": 57,
     "metadata": {},
     "output_type": "execute_result"
    }
   ],
   "source": [
    "df[\"MarkDown2\"].describe()"
   ]
  },
  {
   "cell_type": "code",
   "execution_count": 58,
   "metadata": {},
   "outputs": [
    {
     "data": {
      "text/plain": [
       "count     32513.000000\n",
       "mean       1553.120097\n",
       "std       10595.395278\n",
       "min           0.010000\n",
       "25%           4.530000\n",
       "50%          21.120000\n",
       "75%          96.350000\n",
       "max      141630.610000\n",
       "Name: MarkDown3, dtype: float64"
      ]
     },
     "execution_count": 58,
     "metadata": {},
     "output_type": "execute_result"
    }
   ],
   "source": [
    "df[\"MarkDown3\"].describe()"
   ]
  },
  {
   "cell_type": "code",
   "execution_count": 59,
   "metadata": {},
   "outputs": [
    {
     "data": {
      "text/plain": [
       "count    34485.000000\n",
       "mean      2934.328386\n",
       "std       5199.795541\n",
       "min          4.000000\n",
       "25%        426.510000\n",
       "50%       1183.640000\n",
       "75%       3463.030000\n",
       "max      48159.860000\n",
       "Name: MarkDown4, dtype: float64"
      ]
     },
     "execution_count": 59,
     "metadata": {},
     "output_type": "execute_result"
    }
   ],
   "source": [
    "df[\"MarkDown4\"].describe()"
   ]
  },
  {
   "cell_type": "code",
   "execution_count": 60,
   "metadata": {},
   "outputs": [
    {
     "data": {
      "text/plain": [
       "count    35013.000000\n",
       "mean      4706.398300\n",
       "std       5347.922707\n",
       "min        135.160000\n",
       "25%       2007.500000\n",
       "50%       3592.820000\n",
       "75%       5630.400000\n",
       "max      58068.140000\n",
       "Name: MarkDown5, dtype: float64"
      ]
     },
     "execution_count": 60,
     "metadata": {},
     "output_type": "execute_result"
    }
   ],
   "source": [
    "df[\"MarkDown5\"].describe()"
   ]
  },
  {
   "cell_type": "markdown",
   "metadata": {},
   "source": [
    "Okay--let's examine what we know about these columns, and come up with a solution for dealing with these null values. \n",
    "\n",
    "* The data contained within each column are continuously-valued floats. \n",
    "* The range is quite large, with the smallest value being around 0 or even negative in some columns, and the max being greater than 100,000.\n",
    "* There is extremely high variance in each, with the standard deviation being larger than the mean in all 5 columns. \n",
    "\n",
    "\n",
    "### Dealing With Null Values Through Binning\n",
    "\n",
    "This suggests that our best bet is to bin the columns.  The hard part is figuring out the right amount of bins to use.  Too many, and we subject ourselves to the curse of dimensionality.  Too few, and we lose information from the columns that could be important. \n",
    "\n",
    "For now, let's start with with 5 bins of equal size. \n",
    "\n",
    "In the cell below: \n",
    "\n",
    "* Create a binned version of each `MarkDown` column and add them to our DataFrame.  \n",
    "* When calling `pd.cut()`, pass in the appropriate column as the object to be binned, the number of bins we want, `5`, and set the `labels` parameter to `bins`, so that we have clearly labeled names for each bin. \n",
    "\n",
    "For more information on how to bin these columns using pd.cut, see the [pandas documentation for this method.](https://pandas.pydata.org/pandas-docs/version/0.23.4/generated/pandas.cut.html)"
   ]
  },
  {
   "cell_type": "code",
   "execution_count": 61,
   "metadata": {},
   "outputs": [],
   "source": [
    "bins = ['0-20%', '21-40%', '41-60%', '61-80%', '81-100%']\n",
    "\n",
    "for i in range (1, 6):\n",
    "   df[\"binned_markdown_\" + str(i)] = pd.cut(df[\"MarkDown\" + str(i)], 5, labels=bins)"
   ]
  },
  {
   "cell_type": "markdown",
   "metadata": {},
   "source": [
    "Great! Now, let's check the `.dtypes` attribute of our DataFrame to see that these new categorical columns have been created. "
   ]
  },
  {
   "cell_type": "code",
   "execution_count": 62,
   "metadata": {},
   "outputs": [
    {
     "data": {
      "text/plain": [
       "Store                  object\n",
       "Dept                   object\n",
       "Date                   object\n",
       "Weekly_Sales          float64\n",
       "IsHoliday                bool\n",
       "Type                   object\n",
       "Size                    int64\n",
       "Temperature           float64\n",
       "Fuel_Price            float64\n",
       "MarkDown1             float64\n",
       "MarkDown2             float64\n",
       "MarkDown3             float64\n",
       "MarkDown4             float64\n",
       "MarkDown5             float64\n",
       "CPI                   float64\n",
       "Unemployment          float64\n",
       "binned_markdown_1    category\n",
       "binned_markdown_2    category\n",
       "binned_markdown_3    category\n",
       "binned_markdown_4    category\n",
       "binned_markdown_5    category\n",
       "dtype: object"
      ]
     },
     "execution_count": 62,
     "metadata": {},
     "output_type": "execute_result"
    }
   ],
   "source": [
    "df.dtypes"
   ]
  },
  {
   "cell_type": "markdown",
   "metadata": {},
   "source": [
    "They exist! However, they still contain null values.  We need to replace all null values with a string that will represent all missing values.  This is easy enough for us--we can just use the `replace()` method or the `fillna()` method on each column and replace `NaN` with `\"NaN\"`. \n",
    "\n",
    "In the cell below, replace all missing values inside our `binned_markdown` columns with the string `\"NaN\"`.\n",
    "\n",
    "**_NOTE:_** If you're unsure of how to do this, check the [pandas documentation for replace](https://pandas.pydata.org/pandas-docs/stable/generated/pandas.DataFrame.replace.html)."
   ]
  },
  {
   "cell_type": "code",
   "execution_count": 63,
   "metadata": {},
   "outputs": [],
   "source": [
    "for i in range (1,6):\n",
    "    df['binned_markdown_' + str(i)].replace(np.NaN, \"NaN\", inplace=True)"
   ]
  },
  {
   "cell_type": "markdown",
   "metadata": {},
   "source": [
    "Great! Now, let's check if those columns still contain null values. \n",
    "\n",
    "In the cell below, display the number of null values contained within each column of our DataFrame."
   ]
  },
  {
   "cell_type": "code",
   "execution_count": 64,
   "metadata": {},
   "outputs": [
    {
     "data": {
      "text/plain": [
       "Store                    0\n",
       "Dept                     0\n",
       "Date                     0\n",
       "Weekly_Sales             0\n",
       "IsHoliday                0\n",
       "Type                     0\n",
       "Size                     0\n",
       "Temperature              0\n",
       "Fuel_Price               0\n",
       "MarkDown1            62826\n",
       "MarkDown2            70607\n",
       "MarkDown3            65326\n",
       "MarkDown4            63354\n",
       "MarkDown5            62826\n",
       "CPI                      0\n",
       "Unemployment             0\n",
       "binned_markdown_1        0\n",
       "binned_markdown_2        0\n",
       "binned_markdown_3        0\n",
       "binned_markdown_4        0\n",
       "binned_markdown_5        0\n",
       "dtype: int64"
      ]
     },
     "execution_count": 64,
     "metadata": {},
     "output_type": "execute_result"
    }
   ],
   "source": [
    "df.isna().sum()"
   ]
  },
  {
   "cell_type": "markdown",
   "metadata": {},
   "source": [
    "Excellent! We've now dealt with all the null values in our dataset through **_Coarse Classification_** by binning our data and treating null values as a distinct category. All that's left to do is to drop our original `MarkDown` columns from the DataFrame. \n",
    "\n",
    "Note that in this step, we'll also drop the `Date` column, because we are going to build a generalized model and will not be making use of any time series data. \n",
    "\n",
    "In the cell below:\n",
    "\n",
    "* Create a list called `to_drop` that contains the name of every `MarkDown` column we need to drop (for a challenge, try doing this with a list comprehension!)\n",
    "* Append `\"Date\"` to `to_drop`\n",
    "* Drop these columns (in place) from our DataFrame\n",
    "* Display the number of null values in each column again to confirm that these columns have been dropped, and that our DataFrame now contains no missing values\n"
   ]
  },
  {
   "cell_type": "code",
   "execution_count": 65,
   "metadata": {},
   "outputs": [
    {
     "data": {
      "text/plain": [
       "Store                0\n",
       "Dept                 0\n",
       "Weekly_Sales         0\n",
       "IsHoliday            0\n",
       "Type                 0\n",
       "Size                 0\n",
       "Temperature          0\n",
       "Fuel_Price           0\n",
       "CPI                  0\n",
       "Unemployment         0\n",
       "binned_markdown_1    0\n",
       "binned_markdown_2    0\n",
       "binned_markdown_3    0\n",
       "binned_markdown_4    0\n",
       "binned_markdown_5    0\n",
       "dtype: int64"
      ]
     },
     "execution_count": 65,
     "metadata": {},
     "output_type": "execute_result"
    }
   ],
   "source": [
    "to_drop = [\"MarkDown\" + str(i) for i in range (1,6)]\n",
    "to_drop.append(\"Date\")\n",
    "df.drop(to_drop, axis=1, inplace=True)\n",
    "df.isna().sum()"
   ]
  },
  {
   "cell_type": "markdown",
   "metadata": {},
   "source": [
    "### Checking for Multicollinearity\n",
    "\n",
    "\n",
    "Before we one-hot encode our categorical columns, we'll want to quickly check the dataset for multicollinearity, since this can really mess up our model if it exists in the dataset.  We want to make sure that the columns within the dataset are not highly correlated. \n",
    "\n",
    "We'll do this by creating a correlation heatmap. We want to do this before one-hot-encoding our data because each column becomes both a row and a column in the visualization, and after one-hot encoding, this dataset will contain over 300 columns!\n",
    "\n",
    "The [seaborn documentation](https://seaborn.pydata.org/examples/many_pairwise_correlations.html) provides some great code samples to help us figure out how to display a Correlation Heatmap.  \n",
    "\n",
    "Check out this documentation, and then modify the code included so that it displays a Correlation Heatmap for our dataset below."
   ]
  },
  {
   "cell_type": "code",
   "execution_count": 66,
   "metadata": {},
   "outputs": [
    {
     "data": {
      "text/plain": [
       "<matplotlib.axes._subplots.AxesSubplot at 0x1a215320f0>"
      ]
     },
     "execution_count": 66,
     "metadata": {},
     "output_type": "execute_result"
    },
    {
     "data": {
      "image/png": "[encoded data removed]",
      "text/plain": [
       "<Figure size 792x648 with 2 Axes>"
      ]
     },
     "metadata": {},
     "output_type": "display_data"
    }
   ],
   "source": [
    "# Set the style of the visualization\n",
    "sns.set(style=\"white\")\n",
    "\n",
    "# Create a covariance matrix\n",
    "corr = df.corr()\n",
    "\n",
    "# Generate a mask the size of our covariance matrix\n",
    "mask = np.zeros_like(corr, dtype=np.bool)\n",
    "mask[np.triu_indices_from(mask)] = True\n",
    "\n",
    "\n",
    "# Set up the matplotlib figure\n",
    "f, ax = plt.subplots(figsize=(11, 9))\n",
    "\n",
    "\n",
    "# Generate a custom diverging colormap\n",
    "cmap = sns.diverging_palette(220, 10, as_cmap=True)\n",
    "\n",
    "# Draw the heatmap with the mask and correct aspect ratio\n",
    "sns.heatmap(corr, mask=mask, cmap=cmap, vmax=.3, center=0,\n",
    "            square=True, linewidths=.5, cbar_kws={\"shrink\": .5})"
   ]
  },
  {
   "cell_type": "markdown",
   "metadata": {},
   "source": [
    "Interpret the Correlation Heatmap we created above to answer the following questions:\n",
    "\n",
    "Which columns are highly correlated with the target column our model will predict?  Are any of our predictor columns highly correlated enough that we should consider dropping them?  Explain your answer.\n",
    "\n",
    "Write your answer below this line:\n",
    "________________________________________________________________________________________________________________________________\n",
    "\n",
    "The only strong correlation I see is between Weekly_Sales and Size. This seems reasonable as larger stores are likely located in larger areas and have more sales.\n",
    "\n",
    "## Normalizing our Data\n",
    "\n",
    "Now, we'll need to convert all of our numeric columns to the same scale by **_normalizing_** our dataset.  Recall that we normalize our dataset by converting each numeric value to it's corresponding z-score for the column, which is obtained by subtracting the column's mean and then dividing by the column's standard deviation for every value. \n",
    "\n",
    "Since we only have 4 columns containing numeric data that needs to be normalized, we'll do this by hand in the cell below. This allows us to avoid errors that stem from trying to normalize datasets that contain strings in all of our categorical columns. Plus, it's good practice to help us remember how normalization works!\n",
    "\n",
    "In the cell below:\n",
    "\n",
    "* Normalize the following columns individually: `Size`, `Temperature`, `Fuel_Price`, `CPI`, and `Unemployment` by subtracting the column mean and dividing by the column standard deviation. "
   ]
  },
  {
   "cell_type": "code",
   "execution_count": 67,
   "metadata": {},
   "outputs": [],
   "source": [
    "df.Size = (df.Size - df.Size.mean()) / df.Size.std()\n",
    "df.Temperature = (df.Temperature - df.Temperature.mean()) / df.Temperature.std()\n",
    "df.Fuel_Price = (df.Fuel_Price - df.Fuel_Price.mean()) / df.Fuel_Price.std()\n",
    "df.CPI = (df.CPI - df.CPI.mean()) / df.CPI.std()\n",
    "df.Unemployment = (df.Unemployment - df.Unemployment.mean()) / df.Unemployment.std()"
   ]
  },
  {
   "cell_type": "markdown",
   "metadata": {},
   "source": [
    "## One-Hot Encoding Categorical Columns\n",
    "\n",
    "For our final step, we'll need to deal with our categorical columns.  Categorical data work work for our modeling step--we'll need to convert these to numeric columns through **_one-hot encoding_**.  \n",
    "\n",
    "In the cell below, use the [appropriate function in pandas](https://pandas.pydata.org/pandas-docs/stable/generated/pandas.get_dummies.html) to one-hot encode the dataset."
   ]
  },
  {
   "cell_type": "code",
   "execution_count": 68,
   "metadata": {},
   "outputs": [],
   "source": [
    "df = pd.get_dummies(df)"
   ]
  },
  {
   "cell_type": "code",
   "execution_count": 69,
   "metadata": {},
   "outputs": [
    {
     "data": {
      "text/html": [
       "<div>\n",
       "<style scoped>\n",
       "    .dataframe tbody tr th:only-of-type {\n",
       "        vertical-align: middle;\n",
       "    }\n",
       "\n",
       "    .dataframe tbody tr th {\n",
       "        vertical-align: top;\n",
       "    }\n",
       "\n",
       "    .dataframe thead th {\n",
       "        text-align: right;\n",
       "    }\n",
       "</style>\n",
       "<table border=\"1\" class=\"dataframe\">\n",
       "  <thead>\n",
       "    <tr style=\"text-align: right;\">\n",
       "      <th></th>\n",
       "      <th>Weekly_Sales</th>\n",
       "      <th>IsHoliday</th>\n",
       "      <th>Size</th>\n",
       "      <th>Temperature</th>\n",
       "      <th>Fuel_Price</th>\n",
       "      <th>CPI</th>\n",
       "      <th>Unemployment</th>\n",
       "      <th>Store_1</th>\n",
       "      <th>Store_10</th>\n",
       "      <th>Store_2</th>\n",
       "      <th>...</th>\n",
       "      <th>binned_markdown_4_41-60%</th>\n",
       "      <th>binned_markdown_4_61-80%</th>\n",
       "      <th>binned_markdown_4_81-100%</th>\n",
       "      <th>binned_markdown_4_NaN</th>\n",
       "      <th>binned_markdown_5_0-20%</th>\n",
       "      <th>binned_markdown_5_21-40%</th>\n",
       "      <th>binned_markdown_5_41-60%</th>\n",
       "      <th>binned_markdown_5_61-80%</th>\n",
       "      <th>binned_markdown_5_81-100%</th>\n",
       "      <th>binned_markdown_5_NaN</th>\n",
       "    </tr>\n",
       "  </thead>\n",
       "  <tbody>\n",
       "    <tr>\n",
       "      <th>0</th>\n",
       "      <td>24924.50</td>\n",
       "      <td>False</td>\n",
       "      <td>0.283436</td>\n",
       "      <td>-1.301205</td>\n",
       "      <td>-1.56024</td>\n",
       "      <td>0.40349</td>\n",
       "      <td>0.913194</td>\n",
       "      <td>1</td>\n",
       "      <td>0</td>\n",
       "      <td>0</td>\n",
       "      <td>...</td>\n",
       "      <td>0</td>\n",
       "      <td>0</td>\n",
       "      <td>0</td>\n",
       "      <td>1</td>\n",
       "      <td>0</td>\n",
       "      <td>0</td>\n",
       "      <td>0</td>\n",
       "      <td>0</td>\n",
       "      <td>0</td>\n",
       "      <td>1</td>\n",
       "    </tr>\n",
       "    <tr>\n",
       "      <th>1</th>\n",
       "      <td>50605.27</td>\n",
       "      <td>False</td>\n",
       "      <td>0.283436</td>\n",
       "      <td>-1.301205</td>\n",
       "      <td>-1.56024</td>\n",
       "      <td>0.40349</td>\n",
       "      <td>0.913194</td>\n",
       "      <td>1</td>\n",
       "      <td>0</td>\n",
       "      <td>0</td>\n",
       "      <td>...</td>\n",
       "      <td>0</td>\n",
       "      <td>0</td>\n",
       "      <td>0</td>\n",
       "      <td>1</td>\n",
       "      <td>0</td>\n",
       "      <td>0</td>\n",
       "      <td>0</td>\n",
       "      <td>0</td>\n",
       "      <td>0</td>\n",
       "      <td>1</td>\n",
       "    </tr>\n",
       "    <tr>\n",
       "      <th>2</th>\n",
       "      <td>13740.12</td>\n",
       "      <td>False</td>\n",
       "      <td>0.283436</td>\n",
       "      <td>-1.301205</td>\n",
       "      <td>-1.56024</td>\n",
       "      <td>0.40349</td>\n",
       "      <td>0.913194</td>\n",
       "      <td>1</td>\n",
       "      <td>0</td>\n",
       "      <td>0</td>\n",
       "      <td>...</td>\n",
       "      <td>0</td>\n",
       "      <td>0</td>\n",
       "      <td>0</td>\n",
       "      <td>1</td>\n",
       "      <td>0</td>\n",
       "      <td>0</td>\n",
       "      <td>0</td>\n",
       "      <td>0</td>\n",
       "      <td>0</td>\n",
       "      <td>1</td>\n",
       "    </tr>\n",
       "    <tr>\n",
       "      <th>3</th>\n",
       "      <td>39954.04</td>\n",
       "      <td>False</td>\n",
       "      <td>0.283436</td>\n",
       "      <td>-1.301205</td>\n",
       "      <td>-1.56024</td>\n",
       "      <td>0.40349</td>\n",
       "      <td>0.913194</td>\n",
       "      <td>1</td>\n",
       "      <td>0</td>\n",
       "      <td>0</td>\n",
       "      <td>...</td>\n",
       "      <td>0</td>\n",
       "      <td>0</td>\n",
       "      <td>0</td>\n",
       "      <td>1</td>\n",
       "      <td>0</td>\n",
       "      <td>0</td>\n",
       "      <td>0</td>\n",
       "      <td>0</td>\n",
       "      <td>0</td>\n",
       "      <td>1</td>\n",
       "    </tr>\n",
       "    <tr>\n",
       "      <th>4</th>\n",
       "      <td>32229.38</td>\n",
       "      <td>False</td>\n",
       "      <td>0.283436</td>\n",
       "      <td>-1.301205</td>\n",
       "      <td>-1.56024</td>\n",
       "      <td>0.40349</td>\n",
       "      <td>0.913194</td>\n",
       "      <td>1</td>\n",
       "      <td>0</td>\n",
       "      <td>0</td>\n",
       "      <td>...</td>\n",
       "      <td>0</td>\n",
       "      <td>0</td>\n",
       "      <td>0</td>\n",
       "      <td>1</td>\n",
       "      <td>0</td>\n",
       "      <td>0</td>\n",
       "      <td>0</td>\n",
       "      <td>0</td>\n",
       "      <td>0</td>\n",
       "      <td>1</td>\n",
       "    </tr>\n",
       "    <tr>\n",
       "      <th>5</th>\n",
       "      <td>5749.03</td>\n",
       "      <td>False</td>\n",
       "      <td>0.283436</td>\n",
       "      <td>-1.301205</td>\n",
       "      <td>-1.56024</td>\n",
       "      <td>0.40349</td>\n",
       "      <td>0.913194</td>\n",
       "      <td>1</td>\n",
       "      <td>0</td>\n",
       "      <td>0</td>\n",
       "      <td>...</td>\n",
       "      <td>0</td>\n",
       "      <td>0</td>\n",
       "      <td>0</td>\n",
       "      <td>1</td>\n",
       "      <td>0</td>\n",
       "      <td>0</td>\n",
       "      <td>0</td>\n",
       "      <td>0</td>\n",
       "      <td>0</td>\n",
       "      <td>1</td>\n",
       "    </tr>\n",
       "    <tr>\n",
       "      <th>6</th>\n",
       "      <td>21084.08</td>\n",
       "      <td>False</td>\n",
       "      <td>0.283436</td>\n",
       "      <td>-1.301205</td>\n",
       "      <td>-1.56024</td>\n",
       "      <td>0.40349</td>\n",
       "      <td>0.913194</td>\n",
       "      <td>1</td>\n",
       "      <td>0</td>\n",
       "      <td>0</td>\n",
       "      <td>...</td>\n",
       "      <td>0</td>\n",
       "      <td>0</td>\n",
       "      <td>0</td>\n",
       "      <td>1</td>\n",
       "      <td>0</td>\n",
       "      <td>0</td>\n",
       "      <td>0</td>\n",
       "      <td>0</td>\n",
       "      <td>0</td>\n",
       "      <td>1</td>\n",
       "    </tr>\n",
       "    <tr>\n",
       "      <th>7</th>\n",
       "      <td>40129.01</td>\n",
       "      <td>False</td>\n",
       "      <td>0.283436</td>\n",
       "      <td>-1.301205</td>\n",
       "      <td>-1.56024</td>\n",
       "      <td>0.40349</td>\n",
       "      <td>0.913194</td>\n",
       "      <td>1</td>\n",
       "      <td>0</td>\n",
       "      <td>0</td>\n",
       "      <td>...</td>\n",
       "      <td>0</td>\n",
       "      <td>0</td>\n",
       "      <td>0</td>\n",
       "      <td>1</td>\n",
       "      <td>0</td>\n",
       "      <td>0</td>\n",
       "      <td>0</td>\n",
       "      <td>0</td>\n",
       "      <td>0</td>\n",
       "      <td>1</td>\n",
       "    </tr>\n",
       "    <tr>\n",
       "      <th>8</th>\n",
       "      <td>16930.99</td>\n",
       "      <td>False</td>\n",
       "      <td>0.283436</td>\n",
       "      <td>-1.301205</td>\n",
       "      <td>-1.56024</td>\n",
       "      <td>0.40349</td>\n",
       "      <td>0.913194</td>\n",
       "      <td>1</td>\n",
       "      <td>0</td>\n",
       "      <td>0</td>\n",
       "      <td>...</td>\n",
       "      <td>0</td>\n",
       "      <td>0</td>\n",
       "      <td>0</td>\n",
       "      <td>1</td>\n",
       "      <td>0</td>\n",
       "      <td>0</td>\n",
       "      <td>0</td>\n",
       "      <td>0</td>\n",
       "      <td>0</td>\n",
       "      <td>1</td>\n",
       "    </tr>\n",
       "    <tr>\n",
       "      <th>9</th>\n",
       "      <td>30721.50</td>\n",
       "      <td>False</td>\n",
       "      <td>0.283436</td>\n",
       "      <td>-1.301205</td>\n",
       "      <td>-1.56024</td>\n",
       "      <td>0.40349</td>\n",
       "      <td>0.913194</td>\n",
       "      <td>1</td>\n",
       "      <td>0</td>\n",
       "      <td>0</td>\n",
       "      <td>...</td>\n",
       "      <td>0</td>\n",
       "      <td>0</td>\n",
       "      <td>0</td>\n",
       "      <td>1</td>\n",
       "      <td>0</td>\n",
       "      <td>0</td>\n",
       "      <td>0</td>\n",
       "      <td>0</td>\n",
       "      <td>0</td>\n",
       "      <td>1</td>\n",
       "    </tr>\n",
       "  </tbody>\n",
       "</table>\n",
       "<p>10 rows × 127 columns</p>\n",
       "</div>"
      ],
      "text/plain": [
       "   Weekly_Sales  IsHoliday      Size  Temperature  Fuel_Price      CPI  \\\n",
       "0      24924.50      False  0.283436    -1.301205    -1.56024  0.40349   \n",
       "1      50605.27      False  0.283436    -1.301205    -1.56024  0.40349   \n",
       "2      13740.12      False  0.283436    -1.301205    -1.56024  0.40349   \n",
       "3      39954.04      False  0.283436    -1.301205    -1.56024  0.40349   \n",
       "4      32229.38      False  0.283436    -1.301205    -1.56024  0.40349   \n",
       "5       5749.03      False  0.283436    -1.301205    -1.56024  0.40349   \n",
       "6      21084.08      False  0.283436    -1.301205    -1.56024  0.40349   \n",
       "7      40129.01      False  0.283436    -1.301205    -1.56024  0.40349   \n",
       "8      16930.99      False  0.283436    -1.301205    -1.56024  0.40349   \n",
       "9      30721.50      False  0.283436    -1.301205    -1.56024  0.40349   \n",
       "\n",
       "   Unemployment  Store_1  Store_10  Store_2          ...            \\\n",
       "0      0.913194        1         0        0          ...             \n",
       "1      0.913194        1         0        0          ...             \n",
       "2      0.913194        1         0        0          ...             \n",
       "3      0.913194        1         0        0          ...             \n",
       "4      0.913194        1         0        0          ...             \n",
       "5      0.913194        1         0        0          ...             \n",
       "6      0.913194        1         0        0          ...             \n",
       "7      0.913194        1         0        0          ...             \n",
       "8      0.913194        1         0        0          ...             \n",
       "9      0.913194        1         0        0          ...             \n",
       "\n",
       "   binned_markdown_4_41-60%  binned_markdown_4_61-80%  \\\n",
       "0                         0                         0   \n",
       "1                         0                         0   \n",
       "2                         0                         0   \n",
       "3                         0                         0   \n",
       "4                         0                         0   \n",
       "5                         0                         0   \n",
       "6                         0                         0   \n",
       "7                         0                         0   \n",
       "8                         0                         0   \n",
       "9                         0                         0   \n",
       "\n",
       "   binned_markdown_4_81-100%  binned_markdown_4_NaN  binned_markdown_5_0-20%  \\\n",
       "0                          0                      1                        0   \n",
       "1                          0                      1                        0   \n",
       "2                          0                      1                        0   \n",
       "3                          0                      1                        0   \n",
       "4                          0                      1                        0   \n",
       "5                          0                      1                        0   \n",
       "6                          0                      1                        0   \n",
       "7                          0                      1                        0   \n",
       "8                          0                      1                        0   \n",
       "9                          0                      1                        0   \n",
       "\n",
       "   binned_markdown_5_21-40%  binned_markdown_5_41-60%  \\\n",
       "0                         0                         0   \n",
       "1                         0                         0   \n",
       "2                         0                         0   \n",
       "3                         0                         0   \n",
       "4                         0                         0   \n",
       "5                         0                         0   \n",
       "6                         0                         0   \n",
       "7                         0                         0   \n",
       "8                         0                         0   \n",
       "9                         0                         0   \n",
       "\n",
       "   binned_markdown_5_61-80%  binned_markdown_5_81-100%  binned_markdown_5_NaN  \n",
       "0                         0                          0                      1  \n",
       "1                         0                          0                      1  \n",
       "2                         0                          0                      1  \n",
       "3                         0                          0                      1  \n",
       "4                         0                          0                      1  \n",
       "5                         0                          0                      1  \n",
       "6                         0                          0                      1  \n",
       "7                         0                          0                      1  \n",
       "8                         0                          0                      1  \n",
       "9                         0                          0                      1  \n",
       "\n",
       "[10 rows x 127 columns]"
      ]
     },
     "execution_count": 69,
     "metadata": {},
     "output_type": "execute_result"
    }
   ],
   "source": [
    "df.head(10)"
   ]
  },
  {
   "cell_type": "code",
   "execution_count": null,
   "metadata": {},
   "outputs": [],
   "source": [
    "df.to_csv(\"walmart_dataset_cleaned.csv\", index=False)"
   ]
  },
  {
   "cell_type": "markdown",
   "metadata": {},
   "source": [
    "That's it! We've now successfully scrubbed our dataset--we're now ready for data exploration and modeling.\n",
    "\n",
    "## Conclusion\n",
    "\n",
    "In this lesson, we learned gain practice with data cleaning by:\n",
    "\n",
    "* Casting columns to the appropriate data types\n",
    "* Identifying and deal with null values appropriately\n",
    "* Removing unnecessary columns\n",
    "* Checking for and deal with multicollinearity\n",
    "* Normalizing our data"
   ]
  }
 ],
 "metadata": {
  "kernelspec": {
   "display_name": "Python 3",
   "language": "python",
   "name": "python3"
  },
  "language_info": {
   "codemirror_mode": {
    "name": "ipython",
    "version": 3
   },
   "file_extension": ".py",
   "mimetype": "text/x-python",
   "name": "python",
   "nbconvert_exporter": "python",
   "pygments_lexer": "ipython3",
   "version": "3.6.6"
  }
 },
 "nbformat": 4,
 "nbformat_minor": 2
}
